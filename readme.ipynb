{
 "cells": [
  {
   "cell_type": "markdown",
   "metadata": {},
   "source": [
    "## Tcm Theory\n",
    "<table>\n",
    "<td> \n",
    "<img src=\"fd_readme/5elemOrgan.png\" style=\"width:300;\"> <br>\n",
    "</td> \n",
    "<td> \n",
    "<img src=\"fd_readme/5elemColor.png\" style=\"width:500;\"> <br>\n",
    "</td> \n",
    "</table>\n",
    "<caption><center> **Figure 1**: tcm 5 element to organs color</center></caption>\n",
    "## feature extraction\n",
    "### landmark detect\n",
    "#### face organ cropping\n",
    "##### other organs\n",
    "eyes lip\n",
    "\n",
    "## Data augmentation\n",
    "### feature generate\n",
    "#### RGB\n",
    "5 center clustering\n",
    "#### HSV\n",
    "#### YCbCr\n",
    "\n",
    "## use clustering\n",
    "### kmeans\n",
    "inspect how different color space indicate face_color\n",
    "\n",
    "## label classification\n",
    "### LinearSVM\n",
    "### KNN\n",
    "### Logistic Regression\n",
    "### neck benchmark\n",
    "\n",
    "## Direction\n",
    "### Real data and label\n",
    "### improve data\n",
    "make it close to real face color\n",
    "### 色彩校正\n",
    "### 色彩空间\n",
    "### 颈色对比\n",
    "### 唇色诊断\n",
    "### 斑、痣检测\n",
    "### 严重病色\n",
    "### 深度学习"
   ]
  },
  {
   "cell_type": "code",
   "execution_count": null,
   "metadata": {
    "collapsed": true
   },
   "outputs": [],
   "source": []
  },
  {
   "cell_type": "code",
   "execution_count": null,
   "metadata": {
    "collapsed": true
   },
   "outputs": [],
   "source": []
  }
 ],
 "metadata": {
  "kernelspec": {
   "display_name": "Python 3",
   "language": "python",
   "name": "python3"
  },
  "language_info": {
   "codemirror_mode": {
    "name": "ipython",
    "version": 3
   },
   "file_extension": ".py",
   "mimetype": "text/x-python",
   "name": "python",
   "nbconvert_exporter": "python",
   "pygments_lexer": "ipython3",
   "version": "3.6.2"
  }
 },
 "nbformat": 4,
 "nbformat_minor": 2
}
