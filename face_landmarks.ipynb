{
 "cells": [
  {
   "cell_type": "code",
   "execution_count": 1,
   "metadata": {
    "collapsed": true
   },
   "outputs": [],
   "source": [
    "# from PIL import Image\n",
    "import cv2\n",
    "import dlib\n",
    "import numpy as np\n",
    "import os\n",
    "import shutil\n",
    "import matplotlib.pyplot as plt\n",
    "import math\n",
    "# %matplotlib inline"
   ]
  },
  {
   "cell_type": "code",
   "execution_count": 2,
   "metadata": {
    "collapsed": true
   },
   "outputs": [],
   "source": [
    "def grid_display(list_of_images, list_of_titles=[], no_of_columns=2, figsize=(30,30), ratio=1, conv_color = False):\n",
    "    \n",
    "    if conv_color:\n",
    "        list_of_images = [cv2.cvtColor(image, cv2.COLOR_BGR2RGB) for image in list_of_images]\n",
    "    \n",
    "    num_img = len(list_of_images)\n",
    "    row = math.ceil( num_img / no_of_columns )\n",
    "    \n",
    "    if figsize[1] == 0:\n",
    "        fig = plt.figure(figsize=(figsize[0], figsize[0]*row/no_of_columns/ratio))\n",
    "    else:\n",
    "        fig = plt.figure(figsize=figsize)\n",
    "        \n",
    "    for i, img in enumerate(list_of_images):\n",
    "        if list_of_titles:\n",
    "            fig.add_subplot( row, no_of_columns , i+1, title = list_of_titles[i])\n",
    "        else:\n",
    "            fig.add_subplot( row, no_of_columns , i+1)\n",
    "        plt.imshow(list_of_images[i])\n",
    "        plt.axis('off')\n",
    "    plt.show()"
   ]
  },
  {
   "cell_type": "code",
   "execution_count": 3,
   "metadata": {
    "collapsed": true
   },
   "outputs": [],
   "source": [
    "def get_lankmark(path):\n",
    "    detector = dlib.get_frontal_face_detector()\n",
    "    landmark_predictor = dlib.shape_predictor(\n",
    "        r'models/shape_predictor_68_face_landmarks.dat')\n",
    "    img = cv2.imread(path)\n",
    "    faces = detector(img, 1)\n",
    "    landmark = []\n",
    "    rect = []\n",
    "    if (len(faces) > 0):\n",
    "        for k, d in enumerate(faces):\n",
    "            rect.append( [( d.left(), d.top() ), ( d.right(), d.bottom() )] )\n",
    "            \n",
    "            shape = landmark_predictor(img, d)\n",
    "            feas = []  #lankmark points\n",
    "            for i in range(68):\n",
    "                num = str(shape.part(i))[1:-1].split(\",\")\n",
    "                feas.append( (int(num[0]), int(num[1])) ) \n",
    "            landmark.append(feas)\n",
    "    \n",
    "    return img, rect, landmark"
   ]
  },
  {
   "cell_type": "code",
   "execution_count": 4,
   "metadata": {
    "collapsed": true
   },
   "outputs": [],
   "source": [
    "def init_dir(organ_dirs, remove_old = True):\n",
    "    for organ_dir in organ_dirs:\n",
    "        if os.path.exists(organ_dir) and remove_old:\n",
    "            shutil.rmtree(organ_dir)\n",
    "        if not os.path.exists(organ_dir):\n",
    "            os.mkdir(organ_dir)    "
   ]
  },
  {
   "cell_type": "code",
   "execution_count": 5,
   "metadata": {
    "collapsed": true
   },
   "outputs": [],
   "source": [
    "organ_dirs = {'jaw':'./jaw/', \n",
    "              'cheek_l':'./cheek_l/', \n",
    "              'cheek_r':'./cheek_r/', \n",
    "              'nose':'./nose/', \n",
    "              'lip':'./lip/', \n",
    "              'forehead':'./forehead/', \n",
    "              'neck':'./neck/'\n",
    "             }\n",
    "\n",
    "def get_organ_boxes(landmark):\n",
    "    #define boxes coordinate\n",
    "    return {\n",
    "    #forehead\n",
    "    'forehead':(\n",
    "        landmark[0][19][0], #x_left_top\n",
    "        landmark[0][19][1] - (landmark[0][23][0] - landmark[0][20][0]),  #y_left_top\n",
    "        landmark[0][24][0], #x_right_bottom\n",
    "        min(landmark[0][17][1], landmark[0][18][1], landmark[0][19][1], landmark[0][20][1]), #y_right_bottom\n",
    "    ),\n",
    "    #left cheek\n",
    "    'cheek_l':(\n",
    "        min(landmark[0][1][0], landmark[0][2][0], landmark[0][3][0]), #x_left_top\n",
    "        max(landmark[0][36][1], landmark[0][39][1], landmark[0][40][1], landmark[0][41][1]), #y_left_top\n",
    "        (landmark[0][31][0] + landmark[0][31][0] - landmark[0][32][0]), #x_right_bottom\n",
    "        landmark[0][49][1], #y_right_bottom\n",
    "    ),\n",
    "    #right cheeka\n",
    "    'cheek_r':(\n",
    "        (landmark[0][35][0]+landmark[0][35][0]-landmark[0][34][0]), #x_left_top\n",
    "        max(landmark[0][46][1], landmark[0][47][1], landmark[0][45][1], landmark[0][42][1]), #y_left_top\n",
    "        landmark[0][15][0], #x_right_bottom\n",
    "        landmark[0][63][1], #y_right_bottom\n",
    "    ),\n",
    "    #nose\n",
    "    'nose':(\n",
    "        (landmark[0][31][0] + landmark[0][31][0] - landmark[0][32][0]), #x_left_top\n",
    "        landmark[0][27][1], #y_left_top\n",
    "        (landmark[0][35][0]+landmark[0][35][0]-landmark[0][34][0]), #x_right_bottom\n",
    "        max(landmark[0][31][1], landmark[0][32][1], landmark[0][33][1], landmark[0][34][1], landmark[0][35][1]), #y_right_bottom\n",
    "    ),\n",
    "    #lip\n",
    "    'lip':(\n",
    "        landmark[0][48][0], #x_left_top\n",
    "        min(landmark[0][50][1], landmark[0][52][1]),  #y_left_top\n",
    "        landmark[0][54][0], #x_right_bottom\n",
    "        max(landmark[0][56][1], landmark[0][57][1], landmark[0][58][1]), #y_right_bottom\n",
    "    ),\n",
    "    #jaw\n",
    "    'jaw': (\n",
    "        landmark[0][5][0], #x_left_top\n",
    "        landmark[0][57][1], #y_left_top\n",
    "        landmark[0][11][0], #x_right_bottom\n",
    "        landmark[0][8][1] #y_right_bottom\n",
    "    ),\n",
    "    'neck':(\n",
    "        landmark[0][5][0], #x_left_top\n",
    "        landmark[0][8][1], #y_left_top\n",
    "        landmark[0][11][0], #x_right_bottom\n",
    "        landmark[0][8][1] + landmark[0][8][1] - landmark[0][57][1], #y_right_bottom\n",
    "    ),\n",
    "    }\n",
    "\n",
    "\n",
    "# init_dir(organ_dirs, remove_old = True)\n",
    "idx = 0"
   ]
  },
  {
   "cell_type": "code",
   "execution_count": 21,
   "metadata": {
    "collapsed": true
   },
   "outputs": [],
   "source": [
    "def mask_lip(img, landmark):\n",
    "    # extract lip shape\n",
    "    # get countour from landmark\n",
    "    countour = [np.array(landmark[0][48:60])] \n",
    "    # mask defaulting to black for 3-channel and transparent for 4-channel\n",
    "    # (of course replace corners with yours)\n",
    "    mask = np.zeros(img.shape, dtype=np.uint8)\n",
    "    # fill the ROI so it doesn't get wiped out when the mask is applied\n",
    "    channel_count = img.shape[2]  # i.e. 3 or 4 depending on your image\n",
    "    ignore_mask_color = (255,)*channel_count\n",
    "    cv2.fillPoly(mask, countour, ignore_mask_color)\n",
    "    # from Masterfool: use cv2.fillConvexPoly if you know it's convex\n",
    "    # apply the mask\n",
    "    img_masked_lip = cv2.bitwise_and(img, mask)\n",
    "    return img_masked_lip"
   ]
  },
  {
   "cell_type": "code",
   "execution_count": null,
   "metadata": {
    "collapsed": true,
    "scrolled": true
   },
   "outputs": [],
   "source": [
    "idx = idx+1\n",
    "sample_dir = '../sample_sets/photo/'\n",
    "# sample_dir = './test/'\n",
    "imgs = []\n",
    "face_imgs = os.listdir(sample_dir)\n",
    "print (face_imgs)\n",
    "\n",
    "for face_img in face_imgs[idx:idx+2]:\n",
    "# for face_img in face_imgs:\n",
    "    #extract landmark features\n",
    "    img, rect, landmark = get_lankmark(sample_dir + face_img)\n",
    "    \n",
    "    organ_boxes = get_organ_boxes(landmark)\n",
    "\n",
    "    \n",
    "\n",
    "#     # cut different parts of face\n",
    "#     for organ in organ_dirs:\n",
    "# #         print (organ)\n",
    "#         if organ == 'lip':\n",
    "# #             img2 = mask_lip(img, landmark)\n",
    "#             img2 = img\n",
    "#             organ_crop = img2[ organ_boxes[organ][1]:organ_boxes[organ][3],\n",
    "#                                                      organ_boxes[organ][0]:organ_boxes[organ][2] ]\n",
    "# #             organ_crop = cv2.resize(organ_crop, (120,60))\n",
    "#         else:\n",
    "#             organ_crop = img[ organ_boxes[organ][1]:organ_boxes[organ][3],\n",
    "#                                                      organ_boxes[organ][0]:organ_boxes[organ][2] ]\n",
    "#         cv2.imwrite(organ_dirs[organ] + face_img, organ_crop)\n",
    "   \n",
    "\n",
    "\n",
    "    # draw face rect and landmark features\n",
    "    for i, feat_point in enumerate(landmark[0]):\n",
    "        cv2.circle(img, feat_point, 2, (0, 0, 0))\n",
    "        cv2.putText(img, str(i), feat_point, 1, 0.7, (0, 0, 0))\n",
    "    for organ in organ_dirs:\n",
    "        cv2.rectangle(img, (organ_boxes[organ][0], organ_boxes[organ][1]), (organ_boxes[organ][2],organ_boxes[organ][3]),\n",
    "                      (255, 255, 255), 2)\n",
    "    cv2.rectangle(img, rect[0][0], rect[0][1], (0, 0, 255), 2)\n",
    "\n",
    "    # resize image\n",
    "#     img_s = cv2.resize(img, (0,0), fx=0.5, fy=0.5)\n",
    "    imgs.append(img)\n",
    "    \n",
    "images = [cv2.cvtColor(image, cv2.COLOR_BGR2RGB) for image in imgs]\n",
    "grid_display(images, [], 1, (40,30), 1, False)\n"
   ]
  },
  {
   "cell_type": "code",
   "execution_count": null,
   "metadata": {
    "collapsed": true
   },
   "outputs": [],
   "source": []
  },
  {
   "cell_type": "code",
   "execution_count": null,
   "metadata": {
    "collapsed": true
   },
   "outputs": [],
   "source": []
  },
  {
   "cell_type": "code",
   "execution_count": null,
   "metadata": {
    "collapsed": true
   },
   "outputs": [],
   "source": []
  }
 ],
 "metadata": {
  "kernelspec": {
   "display_name": "Python 3",
   "language": "python",
   "name": "python3"
  },
  "language_info": {
   "codemirror_mode": {
    "name": "ipython",
    "version": 3
   },
   "file_extension": ".py",
   "mimetype": "text/x-python",
   "name": "python",
   "nbconvert_exporter": "python",
   "pygments_lexer": "ipython3",
   "version": "3.6.2"
  }
 },
 "nbformat": 4,
 "nbformat_minor": 2
}
